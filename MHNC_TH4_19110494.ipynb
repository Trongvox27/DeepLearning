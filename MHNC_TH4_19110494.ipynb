{
  "nbformat": 4,
  "nbformat_minor": 0,
  "metadata": {
    "colab": {
      "provenance": []
    },
    "kernelspec": {
      "name": "python3",
      "display_name": "Python 3"
    },
    "language_info": {
      "name": "python"
    },
    "accelerator": "GPU",
    "gpuClass": "standard"
  },
  "cells": [
    {
      "cell_type": "code",
      "execution_count": 2,
      "metadata": {
        "id": "wJu-hQMPmhOG"
      },
      "outputs": [],
      "source": [
        "from __future__ import absolute_import, division, print_function, unicode_literals"
      ]
    },
    {
      "cell_type": "code",
      "source": [
        "import pandas as pd\n",
        "import numpy as np\n",
        "import nltk\n",
        "\n",
        "df = pd.read_csv(\"https://raw.githubusercontent.com/huynhthanh98/AML-2022/main/Lab-04/spam_detection.csv\")\n",
        "df.head()"
      ],
      "metadata": {
        "colab": {
          "base_uri": "https://localhost:8080/",
          "height": 206
        },
        "id": "eX_tMEl_m2_n",
        "outputId": "b302b761-0e04-4a40-968a-e97d8e696d08"
      },
      "execution_count": 3,
      "outputs": [
        {
          "output_type": "execute_result",
          "data": {
            "text/plain": [
              "                                                Text Label  y\n",
              "0  Go until jurong point, crazy.. Available only ...   ham  0\n",
              "1                      Ok lar... Joking wif u oni...   ham  0\n",
              "2  Free entry in 2 a wkly comp to win FA Cup fina...  spam  1\n",
              "3  U dun say so early hor... U c already then say...   ham  0\n",
              "4  Nah I don't think he goes to usf, he lives aro...   ham  0"
            ],
            "text/html": [
              "\n",
              "  <div id=\"df-b365a6b1-ddef-4198-b34b-393c8184e1cb\">\n",
              "    <div class=\"colab-df-container\">\n",
              "      <div>\n",
              "<style scoped>\n",
              "    .dataframe tbody tr th:only-of-type {\n",
              "        vertical-align: middle;\n",
              "    }\n",
              "\n",
              "    .dataframe tbody tr th {\n",
              "        vertical-align: top;\n",
              "    }\n",
              "\n",
              "    .dataframe thead th {\n",
              "        text-align: right;\n",
              "    }\n",
              "</style>\n",
              "<table border=\"1\" class=\"dataframe\">\n",
              "  <thead>\n",
              "    <tr style=\"text-align: right;\">\n",
              "      <th></th>\n",
              "      <th>Text</th>\n",
              "      <th>Label</th>\n",
              "      <th>y</th>\n",
              "    </tr>\n",
              "  </thead>\n",
              "  <tbody>\n",
              "    <tr>\n",
              "      <th>0</th>\n",
              "      <td>Go until jurong point, crazy.. Available only ...</td>\n",
              "      <td>ham</td>\n",
              "      <td>0</td>\n",
              "    </tr>\n",
              "    <tr>\n",
              "      <th>1</th>\n",
              "      <td>Ok lar... Joking wif u oni...</td>\n",
              "      <td>ham</td>\n",
              "      <td>0</td>\n",
              "    </tr>\n",
              "    <tr>\n",
              "      <th>2</th>\n",
              "      <td>Free entry in 2 a wkly comp to win FA Cup fina...</td>\n",
              "      <td>spam</td>\n",
              "      <td>1</td>\n",
              "    </tr>\n",
              "    <tr>\n",
              "      <th>3</th>\n",
              "      <td>U dun say so early hor... U c already then say...</td>\n",
              "      <td>ham</td>\n",
              "      <td>0</td>\n",
              "    </tr>\n",
              "    <tr>\n",
              "      <th>4</th>\n",
              "      <td>Nah I don't think he goes to usf, he lives aro...</td>\n",
              "      <td>ham</td>\n",
              "      <td>0</td>\n",
              "    </tr>\n",
              "  </tbody>\n",
              "</table>\n",
              "</div>\n",
              "      <button class=\"colab-df-convert\" onclick=\"convertToInteractive('df-b365a6b1-ddef-4198-b34b-393c8184e1cb')\"\n",
              "              title=\"Convert this dataframe to an interactive table.\"\n",
              "              style=\"display:none;\">\n",
              "        \n",
              "  <svg xmlns=\"http://www.w3.org/2000/svg\" height=\"24px\"viewBox=\"0 0 24 24\"\n",
              "       width=\"24px\">\n",
              "    <path d=\"M0 0h24v24H0V0z\" fill=\"none\"/>\n",
              "    <path d=\"M18.56 5.44l.94 2.06.94-2.06 2.06-.94-2.06-.94-.94-2.06-.94 2.06-2.06.94zm-11 1L8.5 8.5l.94-2.06 2.06-.94-2.06-.94L8.5 2.5l-.94 2.06-2.06.94zm10 10l.94 2.06.94-2.06 2.06-.94-2.06-.94-.94-2.06-.94 2.06-2.06.94z\"/><path d=\"M17.41 7.96l-1.37-1.37c-.4-.4-.92-.59-1.43-.59-.52 0-1.04.2-1.43.59L10.3 9.45l-7.72 7.72c-.78.78-.78 2.05 0 2.83L4 21.41c.39.39.9.59 1.41.59.51 0 1.02-.2 1.41-.59l7.78-7.78 2.81-2.81c.8-.78.8-2.07 0-2.86zM5.41 20L4 18.59l7.72-7.72 1.47 1.35L5.41 20z\"/>\n",
              "  </svg>\n",
              "      </button>\n",
              "      \n",
              "  <style>\n",
              "    .colab-df-container {\n",
              "      display:flex;\n",
              "      flex-wrap:wrap;\n",
              "      gap: 12px;\n",
              "    }\n",
              "\n",
              "    .colab-df-convert {\n",
              "      background-color: #E8F0FE;\n",
              "      border: none;\n",
              "      border-radius: 50%;\n",
              "      cursor: pointer;\n",
              "      display: none;\n",
              "      fill: #1967D2;\n",
              "      height: 32px;\n",
              "      padding: 0 0 0 0;\n",
              "      width: 32px;\n",
              "    }\n",
              "\n",
              "    .colab-df-convert:hover {\n",
              "      background-color: #E2EBFA;\n",
              "      box-shadow: 0px 1px 2px rgba(60, 64, 67, 0.3), 0px 1px 3px 1px rgba(60, 64, 67, 0.15);\n",
              "      fill: #174EA6;\n",
              "    }\n",
              "\n",
              "    [theme=dark] .colab-df-convert {\n",
              "      background-color: #3B4455;\n",
              "      fill: #D2E3FC;\n",
              "    }\n",
              "\n",
              "    [theme=dark] .colab-df-convert:hover {\n",
              "      background-color: #434B5C;\n",
              "      box-shadow: 0px 1px 3px 1px rgba(0, 0, 0, 0.15);\n",
              "      filter: drop-shadow(0px 1px 2px rgba(0, 0, 0, 0.3));\n",
              "      fill: #FFFFFF;\n",
              "    }\n",
              "  </style>\n",
              "\n",
              "      <script>\n",
              "        const buttonEl =\n",
              "          document.querySelector('#df-b365a6b1-ddef-4198-b34b-393c8184e1cb button.colab-df-convert');\n",
              "        buttonEl.style.display =\n",
              "          google.colab.kernel.accessAllowed ? 'block' : 'none';\n",
              "\n",
              "        async function convertToInteractive(key) {\n",
              "          const element = document.querySelector('#df-b365a6b1-ddef-4198-b34b-393c8184e1cb');\n",
              "          const dataTable =\n",
              "            await google.colab.kernel.invokeFunction('convertToInteractive',\n",
              "                                                     [key], {});\n",
              "          if (!dataTable) return;\n",
              "\n",
              "          const docLinkHtml = 'Like what you see? Visit the ' +\n",
              "            '<a target=\"_blank\" href=https://colab.research.google.com/notebooks/data_table.ipynb>data table notebook</a>'\n",
              "            + ' to learn more about interactive tables.';\n",
              "          element.innerHTML = '';\n",
              "          dataTable['output_type'] = 'display_data';\n",
              "          await google.colab.output.renderOutput(dataTable, element);\n",
              "          const docLink = document.createElement('div');\n",
              "          docLink.innerHTML = docLinkHtml;\n",
              "          element.appendChild(docLink);\n",
              "        }\n",
              "      </script>\n",
              "    </div>\n",
              "  </div>\n",
              "  "
            ]
          },
          "metadata": {},
          "execution_count": 3
        }
      ]
    },
    {
      "cell_type": "code",
      "source": [
        "nltk.download('punkt')\n",
        "texts = df[\"Text\"].to_list()\n",
        "texts = [text.lower() for text in texts ]           # chuyển các đoạn text thành chữ thường (word embedding chỉ cho chữ thường)\n",
        "tokenized_texts = [nltk.tokenize.word_tokenize(text) for text in texts]    # tách câu thành một list các từ\n",
        "print(tokenized_texts[0])"
      ],
      "metadata": {
        "colab": {
          "base_uri": "https://localhost:8080/"
        },
        "id": "dPfc3dAKm56A",
        "outputId": "7d577922-1ce4-4dee-9393-18ff9c368562"
      },
      "execution_count": 4,
      "outputs": [
        {
          "output_type": "stream",
          "name": "stderr",
          "text": [
            "[nltk_data] Downloading package punkt to /root/nltk_data...\n",
            "[nltk_data]   Unzipping tokenizers/punkt.zip.\n"
          ]
        },
        {
          "output_type": "stream",
          "name": "stdout",
          "text": [
            "['go', 'until', 'jurong', 'point', ',', 'crazy', '..', 'available', 'only', 'in', 'bugis', 'n', 'great', 'world', 'la', 'e', 'buffet', '...', 'cine', 'there', 'got', 'amore', 'wat', '...']\n"
          ]
        }
      ]
    },
    {
      "cell_type": "code",
      "source": [
        "!wget http://nlp.stanford.edu/data/glove.6B.zip"
      ],
      "metadata": {
        "colab": {
          "base_uri": "https://localhost:8080/"
        },
        "id": "WceiW9Ncpz2T",
        "outputId": "96e81ea6-dbdb-40f1-8fdc-fb3c7b97818e"
      },
      "execution_count": 5,
      "outputs": [
        {
          "output_type": "stream",
          "name": "stdout",
          "text": [
            "--2022-11-17 08:02:30--  http://nlp.stanford.edu/data/glove.6B.zip\n",
            "Resolving nlp.stanford.edu (nlp.stanford.edu)... 171.64.67.140\n",
            "Connecting to nlp.stanford.edu (nlp.stanford.edu)|171.64.67.140|:80... connected.\n",
            "HTTP request sent, awaiting response... 302 Found\n",
            "Location: https://nlp.stanford.edu/data/glove.6B.zip [following]\n",
            "--2022-11-17 08:02:30--  https://nlp.stanford.edu/data/glove.6B.zip\n",
            "Connecting to nlp.stanford.edu (nlp.stanford.edu)|171.64.67.140|:443... connected.\n",
            "HTTP request sent, awaiting response... 301 Moved Permanently\n",
            "Location: https://downloads.cs.stanford.edu/nlp/data/glove.6B.zip [following]\n",
            "--2022-11-17 08:02:30--  https://downloads.cs.stanford.edu/nlp/data/glove.6B.zip\n",
            "Resolving downloads.cs.stanford.edu (downloads.cs.stanford.edu)... 171.64.64.22\n",
            "Connecting to downloads.cs.stanford.edu (downloads.cs.stanford.edu)|171.64.64.22|:443... connected.\n",
            "HTTP request sent, awaiting response... 200 OK\n",
            "Length: 862182613 (822M) [application/zip]\n",
            "Saving to: ‘glove.6B.zip’\n",
            "\n",
            "glove.6B.zip        100%[===================>] 822.24M  5.01MB/s    in 2m 39s  \n",
            "\n",
            "2022-11-17 08:05:09 (5.17 MB/s) - ‘glove.6B.zip’ saved [862182613/862182613]\n",
            "\n"
          ]
        }
      ]
    },
    {
      "cell_type": "code",
      "source": [
        "! unzip glove.6B.zip"
      ],
      "metadata": {
        "colab": {
          "base_uri": "https://localhost:8080/"
        },
        "id": "0pHpO2qGqjmE",
        "outputId": "a2d830eb-80b5-4eea-c477-104e3440559d"
      },
      "execution_count": 6,
      "outputs": [
        {
          "output_type": "stream",
          "name": "stdout",
          "text": [
            "Archive:  glove.6B.zip\n",
            "  inflating: glove.6B.50d.txt        \n",
            "  inflating: glove.6B.100d.txt       \n",
            "  inflating: glove.6B.200d.txt       \n",
            "  inflating: glove.6B.300d.txt       \n"
          ]
        }
      ]
    },
    {
      "cell_type": "code",
      "source": [
        "## không cần hiểu đống này lắm đâu\n",
        "import io\n",
        "import numpy as np\n",
        "def load_word_embeddings(fname):\n",
        "    fin = io.open(fname, 'r', encoding='utf-8', newline='\\n', errors='ignore')\n",
        "    vocab, matrix = [], []\n",
        "    i=0\n",
        "    for line in fin:\n",
        "        tokens = line.rstrip().split(' ')\n",
        "        vocab.append(tokens[0])\n",
        "        matrix.append(list(map(float, tokens[1:])))\n",
        "    return vocab, np.asarray(matrix)"
      ],
      "metadata": {
        "id": "-_d86eG8qmac"
      },
      "execution_count": 7,
      "outputs": []
    },
    {
      "cell_type": "markdown",
      "source": [
        "# Hãy train lại model sao cho embedding layer có tính learnable Kèm theo đó là dùng bộ glove 6B 300d"
      ],
      "metadata": {
        "id": "LcLTgBCuv2hC"
      }
    },
    {
      "cell_type": "code",
      "source": [
        "vocab, matrix = load_word_embeddings(\"glove.6B.300d.txt\")"
      ],
      "metadata": {
        "id": "Bl91Vu6DqoBE"
      },
      "execution_count": 8,
      "outputs": []
    },
    {
      "cell_type": "code",
      "source": [
        "## Gán các mã\n",
        "__PADDED_INDEX__ = 0    # mã dùng cho các vị trí chỉ có tính nối dài cho cùng kích thước\n",
        "__UNKNOWN_WORD__ = 1    # mã cho những từ không có trong embedding"
      ],
      "metadata": {
        "id": "bTUvk91Nqpda"
      },
      "execution_count": 9,
      "outputs": []
    },
    {
      "cell_type": "code",
      "source": [
        "# Tạo một dictionary, có nhiệm vụ là một ánh xạ từ ảnh sang mã số, mã số được bắt đầu từ 2 vì số 0 và 1 được dành cho trường hợp đặc biệt\n",
        "word_to_index = {word: index+2 for index, word in enumerate(vocab)}"
      ],
      "metadata": {
        "id": "nwOrP16GqrwD"
      },
      "execution_count": 10,
      "outputs": []
    },
    {
      "cell_type": "code",
      "source": [
        "# Do do mã số được bắt đầu từ 2, nên cần thêm 2 vector vào đàu ma trận\n",
        "embedding_matrix = np.pad(matrix, [[2,0],[0,0]], mode='constant', constant_values =0.0)\n",
        "print(embedding_matrix)\n",
        "\n",
        "# Khi đó, __PADDED_INDEX__ dùng dòng đầu tiên của  embedding_matrix\n",
        "# __UNKNOWN_WORD__ dùng dòng thứ hai của embedding_matrix "
      ],
      "metadata": {
        "colab": {
          "base_uri": "https://localhost:8080/"
        },
        "id": "ntXerIRoqtTY",
        "outputId": "a392cbd7-e98e-481a-f322-ea5794be331e"
      },
      "execution_count": 11,
      "outputs": [
        {
          "output_type": "stream",
          "name": "stdout",
          "text": [
            "[[ 0.         0.         0.        ...  0.         0.         0.       ]\n",
            " [ 0.         0.         0.        ...  0.         0.         0.       ]\n",
            " [ 0.04656    0.21318   -0.0074364 ...  0.0090611 -0.20989    0.053913 ]\n",
            " ...\n",
            " [ 0.075713  -0.040502   0.18345   ...  0.21838    0.30967    0.43761  ]\n",
            " [ 0.81451   -0.36221    0.31186   ...  0.075486   0.28408   -0.17559  ]\n",
            " [ 0.429191  -0.296897   0.15011   ...  0.28975    0.32618   -0.0590532]]\n"
          ]
        }
      ]
    },
    {
      "cell_type": "code",
      "source": [
        "## Bây giờ ta sẽ chuyển data spam dection thành các mã số\n",
        "import tensorflow as tf\n",
        "\n",
        "X = []\n",
        "for text in tokenized_texts:\n",
        "    cur_text_indices = []\n",
        "    for word in text:\n",
        "        if word in word_to_index:\n",
        "            cur_text_indices.append(word_to_index[word])    ## map từ word sang index\n",
        "        else:\n",
        "            cur_text_indices.append(__UNKNOWN_WORD__)       ## gán unknown cho từ không có trong bộ glove\n",
        "    X.append(cur_text_indices)\n",
        "\n",
        "## pad data cho có cùng chiều dài\n",
        "X = tf.keras.preprocessing.sequence.pad_sequences(sequences=X,       # sequences: list các câu có độ dài không bằng nhau\n",
        "                                                  padding='post')    # vị trí pad là 'pre' (trước) hoặc 'post' (sau)\n",
        "\n",
        "y = df['y'].values   ## Label của bài toán, 0 là không phải spam, 1 là spam"
      ],
      "metadata": {
        "id": "To_6AfdZqu84"
      },
      "execution_count": 12,
      "outputs": []
    },
    {
      "cell_type": "code",
      "source": [
        "## Chia data\n",
        "from sklearn.model_selection import train_test_split\n",
        "X_train, X_valid, y_train, y_valid = train_test_split(X, y, test_size= 0.2, random_state =0)"
      ],
      "metadata": {
        "id": "hi53RIhOqxXZ"
      },
      "execution_count": 13,
      "outputs": []
    },
    {
      "cell_type": "code",
      "source": [
        "\n",
        "from tensorflow.keras.layers import Input, Embedding, LSTM, Bidirectional, Dense\n",
        "from tensorflow.keras.models import Model\n",
        "\n",
        "inputs = Input(shape=(None,))                   ## None biểu thị kích thước không xác định của câu\n",
        "\n",
        "embed = Embedding(input_dim=embedding_matrix.shape[0],   ## Khai báo kích thước của vocab\n",
        "                 output_dim=embedding_matrix.shape[1],   ## Khai báo kích thước của embedding\n",
        "                  embeddings_initializer = tf.keras.initializers.Constant(value=embedding_matrix),  ## Khởi tạo cho embedding bằng ma trận có sẵn\n",
        "                  trainable=False,                       ## Không cần thiết train embedding\n",
        "                 mask_zero=True)(inputs)                 ## zero_mask: những vị trí có giá trị 0 không được tính toán, vì đó là giá trị thêm vào cho đủ độ dài mà thôi\n",
        "                                                         ##  (__PADDED_INDEX__ gán bằng 0)\n",
        "\n",
        "lstm = LSTM(units=100,                          ## units: kích thước của hidden_state trong LSTM\n",
        "            return_sequences=False)(embed)      ## return_sequences: LSTM trả về toàn bộ  hay là trả về hidden_state cuối cùng\n",
        "\n",
        "dense = Dense(units=2, activation='softmax')(lstm)\n",
        "model = Model(inputs=inputs,\n",
        "              outputs=dense)\n",
        "\n",
        "model.compile(optimizer='adam',\n",
        "             loss='sparse_categorical_crossentropy',\n",
        "             metrics=['accuracy'])\n",
        "model.summary()"
      ],
      "metadata": {
        "colab": {
          "base_uri": "https://localhost:8080/"
        },
        "id": "sooVVk8drbH0",
        "outputId": "52d3333d-875e-43e6-99f0-3a2d78226e2b"
      },
      "execution_count": 14,
      "outputs": [
        {
          "output_type": "stream",
          "name": "stdout",
          "text": [
            "Model: \"model\"\n",
            "_________________________________________________________________\n",
            " Layer (type)                Output Shape              Param #   \n",
            "=================================================================\n",
            " input_1 (InputLayer)        [(None, None)]            0         \n",
            "                                                                 \n",
            " embedding (Embedding)       (None, None, 300)         120000600 \n",
            "                                                                 \n",
            " lstm (LSTM)                 (None, 100)               160400    \n",
            "                                                                 \n",
            " dense (Dense)               (None, 2)                 202       \n",
            "                                                                 \n",
            "=================================================================\n",
            "Total params: 120,161,202\n",
            "Trainable params: 160,602\n",
            "Non-trainable params: 120,000,600\n",
            "_________________________________________________________________\n"
          ]
        }
      ]
    },
    {
      "cell_type": "code",
      "source": [
        "mc = tf.keras.callbacks.ModelCheckpoint(filepath=\"lstm_spam.h5\", \n",
        "                                     monitor='val_loss',\n",
        "                                     mode='min', \n",
        "                                     verbose=0, \n",
        "                                     save_best_only=True)\n",
        "# Train\n",
        "model.fit(X_train, y_train, \n",
        "          validation_data=(X_valid, y_valid),\n",
        "         epochs=5,\n",
        "         callbacks=[mc])\n",
        "\n",
        "model.load_weights(\"lstm_spam.h5\")\n",
        "_, val_acc = model.evaluate(X_valid, y_valid)\n",
        "print(\"Accuracy on valid: \", val_acc)"
      ],
      "metadata": {
        "colab": {
          "base_uri": "https://localhost:8080/"
        },
        "id": "uhpgkmtfq0m7",
        "outputId": "5556c42e-d762-41db-fbed-d2094caa188a"
      },
      "execution_count": 15,
      "outputs": [
        {
          "output_type": "stream",
          "name": "stdout",
          "text": [
            "Epoch 1/5\n",
            "140/140 [==============================] - 183s 1s/step - loss: 0.1338 - accuracy: 0.9540 - val_loss: 0.0852 - val_accuracy: 0.9713\n",
            "Epoch 2/5\n",
            "140/140 [==============================] - 221s 2s/step - loss: 0.0599 - accuracy: 0.9812 - val_loss: 0.0625 - val_accuracy: 0.9785\n",
            "Epoch 3/5\n",
            "140/140 [==============================] - 229s 2s/step - loss: 0.0381 - accuracy: 0.9892 - val_loss: 0.0510 - val_accuracy: 0.9830\n",
            "Epoch 4/5\n",
            "140/140 [==============================] - 234s 2s/step - loss: 0.0263 - accuracy: 0.9924 - val_loss: 0.0474 - val_accuracy: 0.9848\n",
            "Epoch 5/5\n",
            "140/140 [==============================] - 51s 366ms/step - loss: 0.0185 - accuracy: 0.9951 - val_loss: 0.0663 - val_accuracy: 0.9794\n",
            "35/35 [==============================] - 4s 118ms/step - loss: 0.0474 - accuracy: 0.9848\n",
            "Accuracy on valid:  0.9847533702850342\n"
          ]
        }
      ]
    },
    {
      "cell_type": "markdown",
      "source": [
        "# Hãy viết một hàm\n",
        "\n",
        "def model_predict(text):\n",
        "\n",
        "return True/False"
      ],
      "metadata": {
        "id": "Et4BAtp5aWuu"
      }
    },
    {
      "cell_type": "code",
      "source": [
        "text_predict = \"wanna ask something? just send me a mess\""
      ],
      "metadata": {
        "id": "mmqtiPq2coMm"
      },
      "execution_count": 16,
      "outputs": []
    },
    {
      "cell_type": "code",
      "source": [
        "def model_predict(text):\n",
        "  text_predict = text.lower()\n",
        "  text_predict = nltk.tokenize.word_tokenize(text_predict)\n",
        "  cur_text_indices =[]\n",
        "  for word in text_predict:\n",
        "    if word in word_to_index:\n",
        "        cur_text_indices.append(word_to_index[word])    ## map từ word sang index\n",
        "    else:\n",
        "        cur_text_indices.append(__UNKNOWN_WORD__) \n",
        "  cur_text_indices = np.array([cur_text_indices],dtype =np.int32)\n",
        "  D = np.argmax(model.predict(cur_text_indices))\n",
        "  if D==0:\n",
        "    return False\n",
        "  return True"
      ],
      "metadata": {
        "id": "JJvQ-D9TdaGN"
      },
      "execution_count": 23,
      "outputs": []
    },
    {
      "cell_type": "code",
      "source": [
        "df['Text'][:5]"
      ],
      "metadata": {
        "colab": {
          "base_uri": "https://localhost:8080/"
        },
        "id": "cagvbeSoslEQ",
        "outputId": "96585ed6-5951-4d11-8ad6-e4e7c88b69cf"
      },
      "execution_count": 27,
      "outputs": [
        {
          "output_type": "execute_result",
          "data": {
            "text/plain": [
              "0    Go until jurong point, crazy.. Available only ...\n",
              "1                        Ok lar... Joking wif u oni...\n",
              "2    Free entry in 2 a wkly comp to win FA Cup fina...\n",
              "3    U dun say so early hor... U c already then say...\n",
              "4    Nah I don't think he goes to usf, he lives aro...\n",
              "Name: Text, dtype: object"
            ]
          },
          "metadata": {},
          "execution_count": 27
        }
      ]
    },
    {
      "cell_type": "code",
      "source": [
        "for t in df['Text'][:5]:\n",
        "  print(t)\n",
        "  print(model_predict(t))\n"
      ],
      "metadata": {
        "colab": {
          "base_uri": "https://localhost:8080/"
        },
        "id": "rAOJEUxLryZC",
        "outputId": "54a530ff-b747-41ce-cd49-609dc019bf71"
      },
      "execution_count": 29,
      "outputs": [
        {
          "output_type": "stream",
          "name": "stdout",
          "text": [
            "Go until jurong point, crazy.. Available only in bugis n great world la e buffet... Cine there got amore wat...\n",
            "1/1 [==============================] - 0s 107ms/step\n",
            "False\n",
            "Ok lar... Joking wif u oni...\n",
            "1/1 [==============================] - 0s 34ms/step\n",
            "False\n",
            "Free entry in 2 a wkly comp to win FA Cup final tkts 21st May 2005. Text FA to 87121 to receive entry question(std txt rate)T&C's apply 08452810075over18's\n",
            "1/1 [==============================] - 0s 57ms/step\n",
            "True\n",
            "U dun say so early hor... U c already then say...\n",
            "1/1 [==============================] - 0s 34ms/step\n",
            "False\n",
            "Nah I don't think he goes to usf, he lives around here though\n",
            "1/1 [==============================] - 0s 60ms/step\n",
            "False\n"
          ]
        }
      ]
    },
    {
      "cell_type": "markdown",
      "source": [
        "# Dùng model vừa train đoán xem các câu sau có phải spam không: \n",
        "\n",
        "*   \"wanna ask something? just send me a mess\"\n",
        "*   \"Urgent! You have won our competition's prize!! Please call us now.\"\n",
        "*   \"Call me to get a free holiday now\""
      ],
      "metadata": {
        "id": "1DDHpTVRaekv"
      }
    },
    {
      "cell_type": "code",
      "source": [
        "texts_test = [\"wanna ask something? just send me a mess\",\n",
        "              \"Urgent! You have won our competition's prize!! Please call us now.\",\n",
        "              \"Call me to get a free holiday now\",]\n",
        "for t in texts_test:\n",
        "  print(t)\n",
        "  print(model_predict(t))"
      ],
      "metadata": {
        "colab": {
          "base_uri": "https://localhost:8080/"
        },
        "id": "UJEwA-zla4Jg",
        "outputId": "c475948e-1dd0-4ce0-b004-f5b34acce962"
      },
      "execution_count": 30,
      "outputs": [
        {
          "output_type": "stream",
          "name": "stdout",
          "text": [
            "wanna ask something? just send me a mess\n",
            "1/1 [==============================] - 0s 22ms/step\n",
            "False\n",
            "Urgent! You have won our competition's prize!! Please call us now.\n",
            "1/1 [==============================] - 0s 24ms/step\n",
            "True\n",
            "Call me to get a free holiday now\n",
            "1/1 [==============================] - 0s 28ms/step\n",
            "False\n"
          ]
        }
      ]
    }
  ]
}